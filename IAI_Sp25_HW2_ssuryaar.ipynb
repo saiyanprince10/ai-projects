{
  "cells": [
    {
      "cell_type": "markdown",
      "metadata": {
        "id": "view-in-github",
        "colab_type": "text"
      },
      "source": [
        "<a href=\"https://colab.research.google.com/github/saiyanprince10/ai-projects/blob/dev/IAI_Sp25_HW2_ssuryaar.ipynb\" target=\"_parent\"><img src=\"https://colab.research.google.com/assets/colab-badge.svg\" alt=\"Open In Colab\"/></a>"
      ]
    },
    {
      "cell_type": "markdown",
      "source": [
        "# IAI Assignment 2\n",
        "## Author: Suryaa Raman\n",
        "## Andrew ID: ssuryaar"
      ],
      "metadata": {
        "id": "Kg7W9lVM1TnI"
      },
      "id": "Kg7W9lVM1TnI"
    },
    {
      "cell_type": "code",
      "execution_count": 1,
      "id": "11d01ba8",
      "metadata": {
        "id": "11d01ba8"
      },
      "outputs": [],
      "source": [
        "import numpy as np\n",
        "import random\n",
        "import math\n",
        "from collections import defaultdict"
      ]
    },
    {
      "cell_type": "code",
      "source": [
        "# Class to represent the 4x4 Tic-Tac-Toe game\n",
        "class TicTacToe4x4:\n",
        "    def __init__(self, dim=4):\n",
        "        self.dim = dim\n",
        "        self.board = np.zeros((dim, dim), dtype=int)\n",
        "        self.current_player = 1\n",
        "    def reset(self):\n",
        "        self.board = np.zeros((self.dim, self.dim), dtype=int)\n",
        "\n",
        "    def available_moves(self):\n",
        "        # Returns a list of all available moves (empty spaces)\n",
        "        return [(i, j) for i in range(self.dim) for j in range(self.dim) if self.board[i, j] == 0]\n",
        "        # return np.argwhere(self.board == 0) - this returns an ndarray, but the comment says we must return a list\n",
        "\n",
        "    def make_move(self, move:int, player:int):\n",
        "        # Places the current player's mark on the board\n",
        "        i, j = move\n",
        "        if self.board[i, j] == 0:\n",
        "          self.board[i, j] = player\n",
        "          return True\n",
        "        return False\n",
        "        # Switches turn to the other player\n",
        "        self.current_player = 3 - self.current_player\n",
        "\n",
        "    def undo_move(self, move):\n",
        "        # Removes a move from the board'\n",
        "        i, j = move\n",
        "        if self.board[i, j] != 0:\n",
        "          self.board[i, j] = 0\n",
        "\n",
        "\n",
        "    def check_winner(self,player:int):\n",
        "        # Checks if a player has won the game\n",
        "        # Check rows, columns, and diagonals for a win\n",
        "        for i in range(self.dim):\n",
        "            if np.all(self.board[i, :] == player) or np.all(self.board[:, i] == player):\n",
        "                return True\n",
        "\n",
        "        if np.all(np.diag(self.board) == player) or np.all(np.diag(np.fliplr(self.board)) == player):\n",
        "            return True\n",
        "        return False\n",
        "    def is_draw(self):\n",
        "        # Checks if the game is a draw\n",
        "        return np.all(self.board != 0)\n",
        "\n",
        "    def display(self):\n",
        "        print(self.board)"
      ],
      "metadata": {
        "id": "7ulnttk1kjmG"
      },
      "id": "7ulnttk1kjmG",
      "execution_count": 13,
      "outputs": []
    },
    {
      "cell_type": "code",
      "execution_count": null,
      "id": "9ea97acf",
      "metadata": {
        "id": "9ea97acf"
      },
      "outputs": [],
      "source": [
        "# Monte Carlo Tree Search Node\n",
        "# class MCTSNode:\n",
        "    # def __init__(self, state, parent=None):\n",
        "\n",
        "   #  def is_fully_expanded(self):\n",
        "\n",
        "    # def best_child(self, exploration_weight=1.4):"
      ]
    },
    {
      "cell_type": "code",
      "source": [
        "# Monte Carlo Tree Search Algorithm\n",
        "# class MCTS:\n",
        "   # def __init__(self, itermax=1000, exploration_weight=1.4):\n",
        "\n",
        "   # def search(self, state):\n",
        "\n",
        "   # def _select(self, node):\n",
        "        # Selection phase - navigate down the tree\n",
        "\n",
        "   # def _expand(self, node):\n",
        "        # Expansion phase - add new children nodes\n",
        "\n",
        "   # def _simulate(self, state):\n",
        "        # Simulation phase - play a random game\n",
        "\n",
        "   # def _backpropagate(self, node, result):\n",
        "        # Backpropagation phase - update values up the tree"
      ],
      "metadata": {
        "id": "-6a5DDMDkZUY"
      },
      "id": "-6a5DDMDkZUY",
      "execution_count": null,
      "outputs": []
    },
    {
      "cell_type": "code",
      "source": [
        "# Function to simulate a game between MCTS and a random player\n",
        "# def play_game():"
      ],
      "metadata": {
        "id": "MVc2IG8Wkb0l"
      },
      "id": "MVc2IG8Wkb0l",
      "execution_count": null,
      "outputs": []
    },
    {
      "cell_type": "markdown",
      "source": [
        "## Both players play randomly"
      ],
      "metadata": {
        "id": "Pm-iPZ9OynVo"
      },
      "id": "Pm-iPZ9OynVo"
    },
    {
      "cell_type": "code",
      "source": [
        "import random\n",
        "def random_player(board, player):\n",
        "    moves = board.available_moves()\n",
        "    return random.choice(moves)"
      ],
      "metadata": {
        "id": "y21ejfRqO8vY"
      },
      "id": "y21ejfRqO8vY",
      "execution_count": 3,
      "outputs": []
    },
    {
      "cell_type": "code",
      "source": [
        "def play_random_game():\n",
        "    board = TicTacToe4x4()\n",
        "    current_player = 1\n",
        "    while True:\n",
        "        # get a random move\n",
        "        move = random_player(board, current_player)\n",
        "        # make the move\n",
        "        board.make_move(move, current_player)\n",
        "        # check if the current player is winning\n",
        "        if board.check_winner(current_player):\n",
        "            # if yes, end the game\n",
        "            print('player {} winning!'.format(current_player))\n",
        "            board.display()\n",
        "            return current_player\n",
        "            # break\n",
        "\n",
        "        # if not, check if it's a draw\n",
        "        if board.is_draw():\n",
        "            # if yes, end the game\n",
        "            print('draw!')\n",
        "            board.display()\n",
        "            return 0\n",
        "            # break\n",
        "\n",
        "        # switch between Player 1 and 2\n",
        "        current_player = 3 - current_player"
      ],
      "metadata": {
        "id": "HzguH7-3ymj_"
      },
      "id": "HzguH7-3ymj_",
      "execution_count": 14,
      "outputs": []
    },
    {
      "cell_type": "code",
      "source": [
        "import matplotlib.pyplot as plt\n",
        "\n",
        "# Play the game 100 times and keep track of the results\n",
        "results = []\n",
        "for _ in range(5):\n",
        "    print('-' * 50)\n",
        "    results.append(play_random_game())"
      ],
      "metadata": {
        "colab": {
          "base_uri": "https://localhost:8080/"
        },
        "id": "IopDYIlvTSmY",
        "outputId": "252d7d7d-7e1f-40a9-cd5f-02260e8b558a"
      },
      "id": "IopDYIlvTSmY",
      "execution_count": 17,
      "outputs": [
        {
          "output_type": "stream",
          "name": "stdout",
          "text": [
            "--------------------------------------------------\n",
            "draw!\n",
            "[[2 2 1 2]\n",
            " [2 1 2 1]\n",
            " [1 1 2 2]\n",
            " [2 1 1 1]]\n",
            "--------------------------------------------------\n",
            "draw!\n",
            "[[1 2 2 1]\n",
            " [1 2 2 1]\n",
            " [2 1 1 2]\n",
            " [1 2 2 1]]\n",
            "--------------------------------------------------\n",
            "player 1 winning!\n",
            "[[1 2 2 2]\n",
            " [1 2 1 2]\n",
            " [0 1 2 2]\n",
            " [1 1 1 1]]\n",
            "--------------------------------------------------\n",
            "player 1 winning!\n",
            "[[1 1 2 2]\n",
            " [1 0 1 2]\n",
            " [1 0 0 0]\n",
            " [1 2 2 0]]\n",
            "--------------------------------------------------\n",
            "player 1 winning!\n",
            "[[0 0 1 1]\n",
            " [0 0 2 1]\n",
            " [2 2 2 1]\n",
            " [2 0 1 1]]\n",
            "--------------------------------------------------\n",
            "draw!\n",
            "[[2 1 1 2]\n",
            " [1 2 2 1]\n",
            " [1 2 2 2]\n",
            " [1 2 1 1]]\n",
            "--------------------------------------------------\n",
            "draw!\n",
            "[[2 1 1 2]\n",
            " [2 1 2 1]\n",
            " [1 2 1 2]\n",
            " [1 2 2 1]]\n",
            "--------------------------------------------------\n",
            "draw!\n",
            "[[2 1 1 1]\n",
            " [2 1 2 2]\n",
            " [1 2 2 1]\n",
            " [1 2 2 1]]\n",
            "--------------------------------------------------\n",
            "draw!\n",
            "[[2 1 1 1]\n",
            " [2 2 2 1]\n",
            " [1 2 2 2]\n",
            " [2 1 1 1]]\n",
            "--------------------------------------------------\n",
            "draw!\n",
            "[[2 2 1 2]\n",
            " [1 1 2 2]\n",
            " [2 1 1 2]\n",
            " [1 2 1 1]]\n",
            "--------------------------------------------------\n",
            "player 2 winning!\n",
            "[[1 1 2 1]\n",
            " [1 1 1 2]\n",
            " [2 2 2 2]\n",
            " [2 1 2 1]]\n",
            "--------------------------------------------------\n",
            "player 1 winning!\n",
            "[[0 1 2 2]\n",
            " [1 1 1 2]\n",
            " [0 1 2 2]\n",
            " [1 1 2 0]]\n",
            "--------------------------------------------------\n",
            "player 1 winning!\n",
            "[[1 1 2 2]\n",
            " [2 1 1 1]\n",
            " [0 1 2 2]\n",
            " [2 1 1 2]]\n",
            "--------------------------------------------------\n",
            "draw!\n",
            "[[2 2 1 2]\n",
            " [1 1 2 1]\n",
            " [1 2 2 1]\n",
            " [1 2 1 2]]\n",
            "--------------------------------------------------\n",
            "player 1 winning!\n",
            "[[1 0 0 1]\n",
            " [2 2 1 2]\n",
            " [0 1 2 0]\n",
            " [1 0 1 2]]\n",
            "--------------------------------------------------\n",
            "draw!\n",
            "[[1 1 1 2]\n",
            " [2 2 1 1]\n",
            " [2 2 2 1]\n",
            " [2 1 2 1]]\n",
            "--------------------------------------------------\n",
            "draw!\n",
            "[[1 2 1 1]\n",
            " [1 2 2 2]\n",
            " [2 2 1 2]\n",
            " [2 1 1 1]]\n",
            "--------------------------------------------------\n",
            "draw!\n",
            "[[2 1 1 2]\n",
            " [2 1 2 1]\n",
            " [1 2 2 1]\n",
            " [1 2 1 2]]\n",
            "--------------------------------------------------\n",
            "draw!\n",
            "[[2 2 1 1]\n",
            " [1 1 1 2]\n",
            " [2 1 2 1]\n",
            " [2 2 1 2]]\n",
            "--------------------------------------------------\n",
            "player 1 winning!\n",
            "[[1 1 2 2]\n",
            " [1 1 1 1]\n",
            " [1 2 2 2]\n",
            " [2 0 1 2]]\n"
          ]
        }
      ]
    },
    {
      "cell_type": "code",
      "source": [
        "# Main execution - run multiple games to test MCTS performance"
      ],
      "metadata": {
        "id": "0Wj3GVrwkdYA"
      },
      "id": "0Wj3GVrwkdYA",
      "execution_count": null,
      "outputs": []
    }
  ],
  "metadata": {
    "kernelspec": {
      "display_name": "Python 3 (ipykernel)",
      "language": "python",
      "name": "python3"
    },
    "language_info": {
      "codemirror_mode": {
        "name": "ipython",
        "version": 3
      },
      "file_extension": ".py",
      "mimetype": "text/x-python",
      "name": "python",
      "nbconvert_exporter": "python",
      "pygments_lexer": "ipython3",
      "version": "3.9.7"
    },
    "colab": {
      "provenance": [],
      "include_colab_link": true
    }
  },
  "nbformat": 4,
  "nbformat_minor": 5
}